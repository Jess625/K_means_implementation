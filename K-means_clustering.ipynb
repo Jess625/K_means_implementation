{
 "cells": [
  {
   "cell_type": "code",
   "execution_count": 152,
   "metadata": {
    "scrolled": true
   },
   "outputs": [
    {
     "name": "stdout",
     "output_type": "stream",
     "text": [
      "Original Assignments\n",
      "\n",
      "  Unnamed: 0  Term1  Term2  Term3  Term4  Term5  Term6  Cluster\n",
      "0       Doc1      2      2      1      0      2      1        0\n",
      "1       Doc2      1      3      0      2      7      0        1\n",
      "2       Doc3      0      2      3      3      0      2        0\n",
      "3       Doc4      2      1      0      3      8      4        2\n",
      "4       Doc5      6      5      0      1      4      0        3\n",
      "5       Doc6      2      1      6      8      0      4        2\n",
      "6       Doc7      5      3      1      0      2      0        3\n"
     ]
    }
   ],
   "source": [
    "import pandas as pd\n",
    "import numpy as np\n",
    "\n",
    "#read the csv into a dataframe\n",
    "f = pd.read_csv('matrix.csv')\n",
    "\n",
    "#add a field for cluster with initial assignments\n",
    "f.insert(7, \"Cluster\", [0, 1, 0, 2, 3, 2, 3])\n",
    "\n",
    "print('Original Assignments')\n",
    "print()\n",
    "print(f)"
   ]
  },
  {
   "cell_type": "code",
   "execution_count": 164,
   "metadata": {},
   "outputs": [
    {
     "name": "stdout",
     "output_type": "stream",
     "text": [
      "Iteration 1\n",
      "\n",
      "  Unnamed: 0  Term1  Term2  Term3  Term4  Term5  Term6  Cluster\n",
      "0       Doc1      2      2      1      0      2      1        3\n",
      "1       Doc2      1      3      0      2      7      0        1\n",
      "2       Doc3      0      2      3      3      0      2        2\n",
      "3       Doc4      2      1      0      3      8      4        2\n",
      "4       Doc5      6      5      0      1      4      0        3\n",
      "5       Doc6      2      1      6      8      0      4        2\n",
      "6       Doc7      5      3      1      0      2      0        3\n"
     ]
    }
   ],
   "source": [
    "import math\n",
    "\n",
    "#function for computing cosine similarity b/w two vectors\n",
    "def cos_sim(x, y):\n",
    "    '''function that takes as input two vectors and outputs the cosine similarity between them'''\n",
    "    num = 0\n",
    "    d1 = 0\n",
    "    d2 = 0\n",
    "    for i in range(len(x)):\n",
    "        num = num + (x[i] * y[i])\n",
    "        d1 = d1 + (x[i] * x[i])\n",
    "        d2 = d2 + (y[i] * y[i])\n",
    "    d1 = math.sqrt(d1)\n",
    "    d2 = math.sqrt(d2)\n",
    "    cos = num / (d1 * d2)\n",
    "    return cos\n",
    "\n",
    "#function for finding cluster with highest cosine similarity for a particular vector\n",
    "def new_cluster(x, y):\n",
    "    ''' function that takes as input a vector and list containing centroids for each cluster and outputs \n",
    "    a cluster assignment for the vector'''\n",
    "    cos_sims = []\n",
    "    for item in y:\n",
    "        p = cos_sim(x, item)\n",
    "        cos_sims.append(p)\n",
    "    f = cos_sims.index(max(cos_sims))\n",
    "    if f == 0:\n",
    "        new_cluster = 1\n",
    "        return new_cluster\n",
    "    if f == 1:\n",
    "        new_cluster = 2\n",
    "        return new_cluster\n",
    "    if f == 2:\n",
    "        new_cluster = 3\n",
    "        return new_cluster\n",
    "\n",
    "#the below code shows the first iteration of k-means \n",
    "    \n",
    "#creates separate dataframes for each cluster\n",
    "unassigned = f.loc[f['Cluster'] == 0]\n",
    "cluster1 = f.loc[f['Cluster'] == 1]\n",
    "cluster2 = f.loc[f['Cluster'] == 2]\n",
    "cluster3 = f.loc[f['Cluster'] == 3]\n",
    "\n",
    "#computes the centroid of each cluster\n",
    "avg1 = list(cluster1.mean())[0:6]\n",
    "avg2 = list(cluster2.mean())[0:6]\n",
    "avg3 = list(cluster3.mean())[0:6]\n",
    "averages = [avg1, avg2, avg3]\n",
    "\n",
    "#extracts values from unassigned vectors\n",
    "doc3 = list(unassigned.loc[2])[1:7]\n",
    "doc1 = list(unassigned.loc[0])[1:7]\n",
    "\n",
    "#assigns new cluster to doc3 and doc1\n",
    "clustersv2 = f.copy(deep=True)\n",
    "clustersv2.at[2, 'Cluster'] = new_cluster(doc3, averages)\n",
    "clustersv2.at[0, 'Cluster'] = new_cluster(doc1, averages)\n",
    "print('Iteration 1')\n",
    "print()\n",
    "print(clustersv2)"
   ]
  },
  {
   "cell_type": "code",
   "execution_count": 166,
   "metadata": {},
   "outputs": [
    {
     "name": "stdout",
     "output_type": "stream",
     "text": [
      "Final Output\n",
      "\n",
      "  Unnamed: 0  Term1  Term2  Term3  Term4  Term5  Term6  Cluster\n",
      "0       Doc1      2      2      1      0      2      1        3\n",
      "1       Doc2      1      3      0      2      7      0        1\n",
      "2       Doc3      0      2      3      3      0      2        2\n",
      "3       Doc4      2      1      0      3      8      4        1\n",
      "4       Doc5      6      5      0      1      4      0        3\n",
      "5       Doc6      2      1      6      8      0      4        2\n",
      "6       Doc7      5      3      1      0      2      0        3\n"
     ]
    }
   ],
   "source": [
    "#the code in this cell executes iteractions of k-means via a while loop until no vectors are re-assigned \n",
    "#to a different cluster\n",
    "\n",
    "n = 0\n",
    "while n == 0:\n",
    "    \n",
    "    #creates separate dataframes for each cluster \n",
    "    cluster1 = clustersv2.loc[clustersv2['Cluster'] == 1]\n",
    "    cluster2 = clustersv2.loc[clustersv2['Cluster'] == 2]\n",
    "    cluster3 = clustersv2.loc[clustersv2['Cluster'] == 3] \n",
    "    \n",
    "    #computes the centroid of each cluster\n",
    "    avg1 = list(cluster1.mean())[0:6]\n",
    "    avg2 = list(cluster2.mean())[0:6]\n",
    "    avg3 = list(cluster3.mean())[0:6]\n",
    "    averages = [avg1, avg2, avg3]\n",
    "    \n",
    "    #variable to count number of changes made during iteration\n",
    "    m = 0\n",
    "    \n",
    "    #loops through tuples, finds new closest cluster(if any)\n",
    "    for i in range(len(clustersv2)):\n",
    "        a = clustersv2.loc[i][1:7]\n",
    "        b = new_cluster(a, averages)\n",
    "        if clustersv2.at[i, 'Cluster'] != b:\n",
    "            m = m + 1\n",
    "            clustersv2.at[i, 'Cluster'] = b\n",
    "    if m > 0: \n",
    "        n = 0\n",
    "    \n",
    "    #ends loop if no new re-assignments are found\n",
    "    if m == 0:\n",
    "        n = 1\n",
    "\n",
    "print('Final Output')\n",
    "print()\n",
    "print(clustersv2)"
   ]
  },
  {
   "cell_type": "code",
   "execution_count": null,
   "metadata": {},
   "outputs": [],
   "source": []
  }
 ],
 "metadata": {
  "kernelspec": {
   "display_name": "Python 3",
   "language": "python",
   "name": "python3"
  },
  "language_info": {
   "codemirror_mode": {
    "name": "ipython",
    "version": 3
   },
   "file_extension": ".py",
   "mimetype": "text/x-python",
   "name": "python",
   "nbconvert_exporter": "python",
   "pygments_lexer": "ipython3",
   "version": "3.8.3"
  }
 },
 "nbformat": 4,
 "nbformat_minor": 4
}
